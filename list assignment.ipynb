{
  "nbformat": 4,
  "nbformat_minor": 0,
  "metadata": {
    "colab": {
      "name": "Untitled1.ipynb",
      "provenance": [],
      "authorship_tag": "ABX9TyM/vH7VdX29Z1jY1kOg7rH4",
      "include_colab_link": true
    },
    "kernelspec": {
      "name": "python3",
      "display_name": "Python 3"
    }
  },
  "cells": [
    {
      "cell_type": "markdown",
      "metadata": {
        "id": "view-in-github",
        "colab_type": "text"
      },
      "source": [
        "<a href=\"https://colab.research.google.com/github/GOURISSYAAM/Class-Assignment-1---Getting-Started-with-Python-Programming/blob/master/list%20assignment.ipynb\" target=\"_parent\"><img src=\"https://colab.research.google.com/assets/colab-badge.svg\" alt=\"Open In Colab\"/></a>"
      ]
    },
    {
      "cell_type": "code",
      "metadata": {
        "id": "_OS9p-66q54k",
        "colab_type": "code",
        "colab": {
          "base_uri": "https://localhost:8080/",
          "height": 90
        },
        "outputId": "18df05ca-0288-4f17-8063-a5e9fd8a75b6"
      },
      "source": [
        "list=[10,20,30,45,50,75,100]\n",
        "count=0\n",
        "print(\"The list is:\")\n",
        "print(list)\n",
        "a=int(input(\"Enter the element to be searched: \"))\n",
        "for i in range(0,7):\n",
        "  if list[i]==a:\n",
        "    print(\"The item is found in\",i+1,\"position\")\n",
        "    count=count+1\n",
        "if count==0:\n",
        "  print(\"The items is not found\")"
      ],
      "execution_count": 5,
      "outputs": [
        {
          "output_type": "stream",
          "text": [
            "The list is:\n",
            "[10, 20, 30, 45, 50, 75, 100]\n",
            "Enter the element to be searched: 100\n",
            "The item is found in 7 position\n"
          ],
          "name": "stdout"
        }
      ]
    }
  ]
}