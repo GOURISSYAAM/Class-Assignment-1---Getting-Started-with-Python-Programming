{
  "nbformat": 4,
  "nbformat_minor": 0,
  "metadata": {
    "colab": {
      "name": "Question bank1.ipynb",
      "provenance": [],
      "authorship_tag": "ABX9TyO6T8NGxbmY3Ih20wXLpLs6",
      "include_colab_link": true
    },
    "kernelspec": {
      "name": "python3",
      "display_name": "Python 3"
    }
  },
  "cells": [
    {
      "cell_type": "markdown",
      "metadata": {
        "id": "view-in-github",
        "colab_type": "text"
      },
      "source": [
        "<a href=\"https://colab.research.google.com/github/GOURISSYAAM/Class-Assignment-1---Getting-Started-with-Python-Programming/blob/master/Question_bank1.ipynb\" target=\"_parent\"><img src=\"https://colab.research.google.com/assets/colab-badge.svg\" alt=\"Open In Colab\"/></a>"
      ]
    },
    {
      "cell_type": "code",
      "metadata": {
        "id": "cvCUY7xdDLSI",
        "colab_type": "code",
        "colab": {
          "base_uri": "https://localhost:8080/",
          "height": 72
        },
        "outputId": "9612cd1c-45f5-48a8-9552-f8e7ae325e81"
      },
      "source": [
        "a=str(input(\"enter the first name\"))\n",
        "b=str(input(\"enter the second name\"))\n",
        "if a==b:\n",
        "  print(\"equal\")\n",
        "elif a!=b:\n",
        "  print(\"not equal\")"
      ],
      "execution_count": null,
      "outputs": [
        {
          "output_type": "stream",
          "text": [
            "enter the first nameapple\n",
            "enter the second nameapple\n",
            "equal\n"
          ],
          "name": "stdout"
        }
      ]
    },
    {
      "cell_type": "code",
      "metadata": {
        "id": "lLGaTzOwFXRA",
        "colab_type": "code",
        "colab": {
          "base_uri": "https://localhost:8080/",
          "height": 54
        },
        "outputId": "bab067f8-3d6d-4c42-8614-d8f4506e99c4"
      },
      "source": [
        "import math\n",
        "a=int(input(\"enter the number:\"))\n",
        "root=math.sqrt(a)\n",
        "print(\"square root is\",root)"
      ],
      "execution_count": null,
      "outputs": [
        {
          "output_type": "stream",
          "text": [
            "enter the number:20\n",
            "square root is 4.47213595499958\n"
          ],
          "name": "stdout"
        }
      ]
    },
    {
      "cell_type": "code",
      "metadata": {
        "id": "P5eV30MkIr2v",
        "colab_type": "code",
        "colab": {
          "base_uri": "https://localhost:8080/",
          "height": 54
        },
        "outputId": "68286747-76c9-4825-cd92-2204eb837027"
      },
      "source": [
        "c=float(input(\"temperature in degree:\"))\n",
        "f=c*9/5+32\n",
        "print(\"temperature in fahrenheit is\",f)"
      ],
      "execution_count": null,
      "outputs": [
        {
          "output_type": "stream",
          "text": [
            "temperature in degree:100\n",
            "temperature in fahrenheit is 212.0\n"
          ],
          "name": "stdout"
        }
      ]
    },
    {
      "cell_type": "code",
      "metadata": {
        "id": "RQGeGrzmKC7J",
        "colab_type": "code",
        "colab": {
          "base_uri": "https://localhost:8080/",
          "height": 54
        },
        "outputId": "0607e90a-e368-4bda-fcbd-ca00bb92bda9"
      },
      "source": [
        "a=int(input(\"enter the number:\"))\n",
        "if a==0:\n",
        "  print(\"the number is 0\")\n",
        "elif a<0:\n",
        "  print(\"the number is negative\")\n",
        "elif a>0:\n",
        "  print(\"the number is positive\")"
      ],
      "execution_count": null,
      "outputs": [
        {
          "output_type": "stream",
          "text": [
            "enter the number:10\n",
            "the number is positive\n"
          ],
          "name": "stdout"
        }
      ]
    },
    {
      "cell_type": "code",
      "metadata": {
        "id": "du6esebALrKe",
        "colab_type": "code",
        "colab": {
          "base_uri": "https://localhost:8080/",
          "height": 90
        },
        "outputId": "1e0bef67-ea5b-4b8e-d056-7e9b542fef54"
      },
      "source": [
        "a=int(input(\"enter the first number:\"))\n",
        "b=int(input(\"enter the second number:\"))\n",
        "c=int(input(\"enter the third number:\"))\n",
        "if a>b:\n",
        "  if a>c:\n",
        "    print(\"the greatest is \",a)\n",
        "elif c>b:\n",
        "  print(\"the greatest\",c)\n",
        "else:\n",
        "   print(\"the greatest\",b)"
      ],
      "execution_count": null,
      "outputs": [
        {
          "output_type": "stream",
          "text": [
            "enter the first number:6\n",
            "enter the second number:7\n",
            "enter the third number:5\n",
            "the greatest 7\n"
          ],
          "name": "stdout"
        }
      ]
    },
    {
      "cell_type": "code",
      "metadata": {
        "id": "zmmiwSZNR1py",
        "colab_type": "code",
        "colab": {
          "base_uri": "https://localhost:8080/",
          "height": 54
        },
        "outputId": "3a744ea9-0587-444f-fcd8-c579b4a2f296"
      },
      "source": [
        "n=int(input(\"enter the number\"))\n",
        "sum=0\n",
        "for i in range(1,n+1):\n",
        "  if i%2!=0:\n",
        "     sum+=i\n",
        "print(\"sum of odd numbers is \",sum)"
      ],
      "execution_count": null,
      "outputs": [
        {
          "output_type": "stream",
          "text": [
            "enter the number11\n",
            "sum of odd numbers is  36\n"
          ],
          "name": "stdout"
        }
      ]
    }
  ]
}