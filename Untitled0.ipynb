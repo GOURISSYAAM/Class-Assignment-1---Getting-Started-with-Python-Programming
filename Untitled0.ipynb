{
  "nbformat": 4,
  "nbformat_minor": 0,
  "metadata": {
    "colab": {
      "name": "Untitled0.ipynb",
      "provenance": [],
      "authorship_tag": "ABX9TyN8sTJTsZYxmIo5enytu/HB",
      "include_colab_link": true
    },
    "kernelspec": {
      "name": "python3",
      "display_name": "Python 3"
    }
  },
  "cells": [
    {
      "cell_type": "markdown",
      "metadata": {
        "id": "view-in-github",
        "colab_type": "text"
      },
      "source": [
        "<a href=\"https://colab.research.google.com/github/GOURISSYAAM/Class-Assignment-1---Getting-Started-with-Python-Programming/blob/master/Untitled0.ipynb\" target=\"_parent\"><img src=\"https://colab.research.google.com/assets/colab-badge.svg\" alt=\"Open In Colab\"/></a>"
      ]
    },
    {
      "cell_type": "code",
      "metadata": {
        "id": "rgmvqb5L_04u",
        "outputId": "b58372f7-9da4-4885-9bbd-fd64b8eef002",
        "colab": {
          "base_uri": "https://localhost:8080/",
          "height": 54
        }
      },
      "source": [
        "t=('aa','bb','dd','cc')\n",
        "temp=list(t)\n",
        "temp.sort()\n",
        "print(temp)\n",
        "t=tuple(temp)\n",
        "print(t)"
      ],
      "execution_count": null,
      "outputs": [
        {
          "output_type": "stream",
          "text": [
            "['aa', 'bb', 'cc', 'dd']\n",
            "('aa', 'bb', 'cc', 'dd')\n"
          ],
          "name": "stdout"
        }
      ]
    },
    {
      "cell_type": "code",
      "metadata": {
        "id": "4lGfMGtkC1nq",
        "outputId": "cdc71330-41d3-4f52-8674-5723755b3e40",
        "colab": {
          "base_uri": "https://localhost:8080/",
          "height": 90
        }
      },
      "source": [
        "x=(1,2,3,4,5)\n",
        "l=[y**2 for y in x]\n",
        "print(l)\n",
        "i=x.index(2)\n",
        "print(i)\n",
        "print(x.index(5))\n",
        "print(l. index (25))\n",
        "\n"
      ],
      "execution_count": null,
      "outputs": [
        {
          "output_type": "stream",
          "text": [
            "[1, 4, 9, 16, 25]\n",
            "1\n",
            "4\n",
            "4\n"
          ],
          "name": "stdout"
        }
      ]
    },
    {
      "cell_type": "code",
      "metadata": {
        "id": "kwN1Z0o5gIrK",
        "outputId": "a0741eb1-2b96-4bdc-e58f-b87b26e14baf",
        "colab": {
          "base_uri": "https://localhost:8080/",
          "height": 109
        }
      },
      "source": [
        "myfile=open('myfile.text','w')\n",
        "myfile.write('hello,first file\\n')\n",
        "myfile.write('goodbye text\\n')\n",
        "myfile.close()\n",
        "myfile=open('myfile.text')\n",
        "print(myfile.readline())\n",
        "print(myfile.readline())\n",
        "print(myfile.readline())\n",
        "\n"
      ],
      "execution_count": null,
      "outputs": [
        {
          "output_type": "stream",
          "text": [
            "hello,first file\n",
            "\n",
            "goodbye text\n",
            "\n",
            "\n"
          ],
          "name": "stdout"
        }
      ]
    },
    {
      "cell_type": "code",
      "metadata": {
        "id": "Xlcr0XZEpqIl",
        "outputId": "25321d92-6ffa-45e9-8c92-d1e83f0f5a8c",
        "colab": {
          "base_uri": "https://localhost:8080/",
          "height": 72
        }
      },
      "source": [
        "myfile=open('myfile.text','w')\n",
        "myfile.write('hello,first file\\n')\n",
        "myfile.write('goodbye text\\n')\n",
        "myfile.close()\n",
        "for line in open ('myfile.text'):\n",
        "  print(line,end=' ')"
      ],
      "execution_count": null,
      "outputs": [
        {
          "output_type": "stream",
          "text": [
            "hello,first file\n",
            " goodbye text\n",
            " "
          ],
          "name": "stdout"
        }
      ]
    }
  ]
}