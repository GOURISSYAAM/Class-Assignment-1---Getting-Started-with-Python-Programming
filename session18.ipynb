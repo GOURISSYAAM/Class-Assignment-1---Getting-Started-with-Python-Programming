{
  "nbformat": 4,
  "nbformat_minor": 0,
  "metadata": {
    "colab": {
      "name": "session18.ipynb",
      "provenance": [],
      "authorship_tag": "ABX9TyN0+CGWByNAmeh0RH+RLOtc",
      "include_colab_link": true
    },
    "kernelspec": {
      "name": "python3",
      "display_name": "Python 3"
    }
  },
  "cells": [
    {
      "cell_type": "markdown",
      "metadata": {
        "id": "view-in-github",
        "colab_type": "text"
      },
      "source": [
        "<a href=\"https://colab.research.google.com/github/GOURISSYAAM/Class-Assignment-1---Getting-Started-with-Python-Programming/blob/master/session18.ipynb\" target=\"_parent\"><img src=\"https://colab.research.google.com/assets/colab-badge.svg\" alt=\"Open In Colab\"/></a>"
      ]
    },
    {
      "cell_type": "markdown",
      "metadata": {
        "id": "kRD1hEgXKzH-"
      },
      "source": [
        ""
      ]
    },
    {
      "cell_type": "markdown",
      "metadata": {
        "id": "hyoeEu00Ljel"
      },
      "source": [
        "Python program to get the largest number from list"
      ]
    },
    {
      "cell_type": "code",
      "metadata": {
        "id": "8El0zZbiKsOh",
        "outputId": "c77339a5-1e38-4c23-cd1e-53e3ac899d2b",
        "colab": {
          "base_uri": "https://localhost:8080/",
          "height": 35
        }
      },
      "source": [
        "list=[1,2,-8,0,3,10]\n",
        "max = list[ 0 ]\n",
        "for a in list:\n",
        "  if a > max:\n",
        "    max = a\n",
        "print(max)"
      ],
      "execution_count": 13,
      "outputs": [
        {
          "output_type": "stream",
          "text": [
            "10\n"
          ],
          "name": "stdout"
        }
      ]
    },
    {
      "cell_type": "markdown",
      "metadata": {
        "id": "YjEqMbJfaZ1x"
      },
      "source": [
        "Phython program to search a element in a list"
      ]
    },
    {
      "cell_type": "code",
      "metadata": {
        "id": "pZ2dsfE9iK8v",
        "outputId": "49140363-10bf-45b9-9d80-8e8e2bb51a73",
        "colab": {
          "base_uri": "https://localhost:8080/",
          "height": 54
        }
      },
      "source": [
        "list=[4,7,2,9,6]\n",
        "b=int(input(\"enter the element\"))\n",
        "\n",
        "for i in list:\n",
        "  if i==b:\n",
        "    print(b,\" is found\")\n",
        "    break\n",
        "else:\n",
        "    print(\"Not found\")\n",
        "\n",
        "    \n",
        "\n",
        "\n",
        "    "
      ],
      "execution_count": 6,
      "outputs": [
        {
          "output_type": "stream",
          "text": [
            "enter the element2\n",
            "2  is found\n"
          ],
          "name": "stdout"
        }
      ]
    },
    {
      "cell_type": "markdown",
      "metadata": {
        "id": "gceHWTRiceZ3"
      },
      "source": [
        "phython program to sum all the items in a list"
      ]
    },
    {
      "cell_type": "code",
      "metadata": {
        "id": "qazIudSqckmP",
        "outputId": "849472ef-f57f-43c8-a07b-270161bdc12c",
        "colab": {
          "base_uri": "https://localhost:8080/",
          "height": 35
        }
      },
      "source": [
        "items=[9,5,8,9,10]\n",
        "sum =0\n",
        "for i in items:\n",
        "  sum=sum+i\n",
        "    \n",
        "print(\"sum of the elemens is\",sum)\n"
      ],
      "execution_count": 12,
      "outputs": [
        {
          "output_type": "stream",
          "text": [
            "sum of the elemens is 41\n"
          ],
          "name": "stdout"
        }
      ]
    },
    {
      "cell_type": "code",
      "metadata": {
        "id": "1wtrwfay-uXS",
        "outputId": "81bf4f0b-f380-40e4-87f6-cee8f135f9a8",
        "colab": {
          "base_uri": "https://localhost:8080/",
          "height": 35
        }
      },
      "source": [
        "a=[1,2]\n",
        "b=[3,4,5,6]\n",
        "for i in a:\n",
        "\tfor j in b:\n",
        "\t\tif i==j:\n",
        "\t\t\tprint(i,\"is common in both\")\n",
        "\t     \n",
        "else:\n",
        "\t\t print(\"No common element found\")\n",
        "\t \n",
        "\n",
        "\t\t\n",
        "\t\t\n",
        "\t\t\n",
        "\t\t\t\t\n",
        "\t\t\n",
        "\t\t\n",
        "\t\n",
        "\t\t\n"
      ],
      "execution_count": 67,
      "outputs": [
        {
          "output_type": "stream",
          "text": [
            "No common element found\n"
          ],
          "name": "stdout"
        }
      ]
    },
    {
      "cell_type": "markdown",
      "metadata": {
        "id": "S9iZxcNOoO0W"
      },
      "source": [
        "To remove duplicate elemente from the list"
      ]
    },
    {
      "cell_type": "code",
      "metadata": {
        "id": "0W90s51Zk1jk",
        "outputId": "88437ff6-a9b3-4a5d-904d-150c404a5f42",
        "colab": {
          "base_uri": "https://localhost:8080/",
          "height": 35
        }
      },
      "source": [
        "def Remove(identical): \n",
        "\tfinal= [] \n",
        "\tfor num in identical: \n",
        "\t\tif num not in final: \n",
        "\t\t\tfinal.append(num) \n",
        "\treturn final \n",
        "\t\n",
        "identical = [1,5,8,1,4,2,5,4,8,7,9,10]\n",
        "print(Remove(identical)) "
      ],
      "execution_count": 68,
      "outputs": [
        {
          "output_type": "stream",
          "text": [
            "[1, 5, 8, 4, 2, 7, 9, 10]\n"
          ],
          "name": "stdout"
        }
      ]
    },
    {
      "cell_type": "markdown",
      "metadata": {
        "id": "x3hIfdyQn7PW"
      },
      "source": [
        "To append first list to second"
      ]
    },
    {
      "cell_type": "code",
      "metadata": {
        "id": "yzxRcIiRg7No",
        "outputId": "9275a07a-7b1d-4527-846d-a422bf315aed",
        "colab": {
          "base_uri": "https://localhost:8080/",
          "height": 35
        }
      },
      "source": [
        "p= [10,11,18]\n",
        "q= ['green','flower','blue']\n",
        "r = p +  q\n",
        "print(r)\n"
      ],
      "execution_count": 69,
      "outputs": [
        {
          "output_type": "stream",
          "text": [
            "[10, 11, 18, 'green', 'flower', 'blue']\n"
          ],
          "name": "stdout"
        }
      ]
    },
    {
      "cell_type": "markdown",
      "metadata": {
        "id": "shwgo1UfnuHy"
      },
      "source": [
        "To check whether a number is composite or not"
      ]
    },
    {
      "cell_type": "code",
      "metadata": {
        "id": "Z4l_8ViHhEcQ",
        "outputId": "4e0d8f5d-d587-4744-f776-06b522995cf5",
        "colab": {
          "base_uri": "https://localhost:8080/",
          "height": 54
        }
      },
      "source": [
        "n=int(input(\"enter the number:\")) \n",
        "factor=0\n",
        "for i in range(1,n):\n",
        "  if n%i==0:\n",
        "    factor=i\n",
        "if factor>1:\n",
        "  print ('The number is a composite number!')\n",
        "elif n==1:\n",
        "  print ('The number 1 is neither prime nor composite!')\n",
        "else:\n",
        "  print ('This is not a composite number!')\n",
        "\n"
      ],
      "execution_count": 71,
      "outputs": [
        {
          "output_type": "stream",
          "text": [
            "enter the number:10\n",
            "The number is a composite number!\n"
          ],
          "name": "stdout"
        }
      ]
    },
    {
      "cell_type": "markdown",
      "metadata": {
        "id": "YINAf16No8c8"
      },
      "source": [
        "To add two matrices"
      ]
    },
    {
      "cell_type": "code",
      "metadata": {
        "id": "pivkvkDcjNBm",
        "outputId": "75253348-2246-438e-dfd0-a346dcb6521b",
        "colab": {
          "base_uri": "https://localhost:8080/",
          "height": 35
        }
      },
      "source": [
        "a = [[12,7,3],    [4 ,5,6],    [7 ,8,9]]\n",
        "b = [[5,8,1],    [6,7,3],    [4,5,9]]\n",
        "\n",
        "result = [[0,0,0],  [0,0,0],  [0,0,0]]\n",
        "\n",
        "for i in range(len(a)):\n",
        "   for j in range(len(a[0])):\n",
        "       result[i][j] = a[i][j] + b[i][j]\n",
        "print(result)"
      ],
      "execution_count": 73,
      "outputs": [
        {
          "output_type": "stream",
          "text": [
            "[[17, 15, 4], [10, 12, 9], [11, 13, 18]]\n"
          ],
          "name": "stdout"
        }
      ]
    },
    {
      "cell_type": "markdown",
      "metadata": {
        "id": "EQhfYvW3plPM"
      },
      "source": [
        "To check if a string is palindrome or not\n"
      ]
    },
    {
      "cell_type": "code",
      "metadata": {
        "id": "s2bzhMZBQmIJ",
        "outputId": "58b8a560-d9ea-42b3-c4ee-4eb76baa6143",
        "colab": {
          "base_uri": "https://localhost:8080/",
          "height": 54
        }
      },
      "source": [
        "a=input(\"enter the string\")\n",
        "b=a[::-1]\n",
        "index=0\n",
        "while index < len(a):\n",
        "  if a[index]==b[index]:\n",
        "    index=index+1\n",
        "    print(a,\" is palimdrone\")\n",
        "    break\n",
        "\n",
        "  else:\n",
        "    print(a ,\"is not palimdrone\")\n",
        "    break\n",
        "\n",
        "\n"
      ],
      "execution_count": null,
      "outputs": [
        {
          "output_type": "stream",
          "text": [
            "enter the stringmalayalam\n",
            "malayalam  is palimdrone\n"
          ],
          "name": "stdout"
        }
      ]
    },
    {
      "cell_type": "markdown",
      "metadata": {
        "id": "uS7gyz5brwu6"
      },
      "source": [
        "To print multipilcation table of a number"
      ]
    },
    {
      "cell_type": "code",
      "metadata": {
        "id": "5_SbE5nFjkiD",
        "outputId": "fdb25360-277c-4320-c97d-7dd53b14d857",
        "colab": {
          "base_uri": "https://localhost:8080/",
          "height": 256
        }
      },
      "source": [
        "def table(n,first,last): \n",
        "\tfor i in range (first, last+1): \n",
        "\t\tprint (\"%d * %d = %d\" % (n, i, n * i) )\n",
        "number=int(input(\"enter the number for the muliplication table:\"))\n",
        "a=int(input(\"enter from where multiplicton begins:\"))\n",
        "b=int(input(\"enter where it should end;\"))\n",
        "table(number,a,b)"
      ],
      "execution_count": 78,
      "outputs": [
        {
          "output_type": "stream",
          "text": [
            "enter the number for the muliplication table:10\n",
            "enter from where multiplicton begins:1\n",
            "enter where it should end;10\n",
            "10 * 1 = 10\n",
            "10 * 2 = 20\n",
            "10 * 3 = 30\n",
            "10 * 4 = 40\n",
            "10 * 5 = 50\n",
            "10 * 6 = 60\n",
            "10 * 7 = 70\n",
            "10 * 8 = 80\n",
            "10 * 9 = 90\n",
            "10 * 10 = 100\n"
          ],
          "name": "stdout"
        }
      ]
    }
  ]
}