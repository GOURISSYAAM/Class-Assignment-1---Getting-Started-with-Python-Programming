{
  "nbformat": 4,
  "nbformat_minor": 0,
  "metadata": {
    "colab": {
      "name": "class discussion1.ipynb",
      "provenance": [],
      "authorship_tag": "ABX9TyN2VymNn8H2Pz3aASYQVrCE",
      "include_colab_link": true
    },
    "kernelspec": {
      "display_name": "Python 3",
      "name": "python3"
    }
  },
  "cells": [
    {
      "cell_type": "markdown",
      "metadata": {
        "id": "view-in-github",
        "colab_type": "text"
      },
      "source": [
        "<a href=\"https://colab.research.google.com/github/GOURISSYAAM/Class-Assignment-1---Getting-Started-with-Python-Programming/blob/master/class_discussion1.ipynb\" target=\"_parent\"><img src=\"https://colab.research.google.com/assets/colab-badge.svg\" alt=\"Open In Colab\"/></a>"
      ]
    },
    {
      "cell_type": "code",
      "metadata": {
        "colab": {
          "base_uri": "https://localhost:8080/"
        },
        "id": "GbqDa2vuXmd3",
        "outputId": "0ea73f9e-03c9-4bf1-bd76-9b4ace6ad506"
      },
      "source": [
        "class Singledigit:\n",
        "    def _init_(self):\n",
        "        self.intnum=0\n",
        "        self.sumdigi=0\n",
        "        self.singlenum=0\n",
        "\n",
        "    def input(self):\n",
        "        self.intnum=int(input(\"Enter a number : \"))\n",
        "\n",
        "    def calcu(self):\n",
        "        self.singlenum = self.intnum\n",
        "        while(self.singlenum > 9):\n",
        "            self.sumdigi = 0\n",
        "            while(self.intnum > 0):\n",
        "                r = int(self.intnum % 10)\n",
        "                self.sumdigi = self.sumdigi+r\n",
        "                self.intnum = int(self.intnum/10)\n",
        "            self.singlenum = self.sumdigi\n",
        "            self.intnum = self.sumdigi\n",
        "    def display(self):\n",
        "        print(\"The Single number is : \",self.singlenum)\n",
        "ob=Singledigit()\n",
        "ob.input()\n",
        "ob.calcu()\n",
        "ob.display()"
      ],
      "execution_count": 18,
      "outputs": [
        {
          "output_type": "stream",
          "text": [
            "Enter a number : 456\n",
            "The Single number is :  6\n"
          ],
          "name": "stdout"
        }
      ]
    },
    {
      "cell_type": "code",
      "metadata": {
        "colab": {
          "base_uri": "https://localhost:8080/"
        },
        "id": "5XfwJz5zbN4c",
        "outputId": "cc6cfabb-73c4-4b7b-ec43-d6a7c69fc5d6"
      },
      "source": [
        "class Polygon:\n",
        "    def __init__(self,n,name):\n",
        "        self.n = n\n",
        "        self.name=name\n",
        "        self.sides=[]\n",
        "    def inputSides(self):\n",
        "        print(self.name)\n",
        "        for i in range(0,self.n):\n",
        "            a=float(input(\"Enter side \"+str(i+1)+\" : \"))\n",
        "            self.sides.append(a)\n",
        "class triangle(Polygon):\n",
        "    def __init__(self):\n",
        "        Polygon.__init__(self, 3 ,\"TRIANGLE :\")\n",
        "\n",
        "    def trianglearea(self):\n",
        "        a, b, c = self.sides\n",
        "        s = (a + b + c) / 2\n",
        "        area = (s*(s-a)*(s-b)*(s-c)) ** 0.5\n",
        "        print(\"The area of the triangle is : %0.2f  \" % area)\n",
        "\n",
        "class square(Polygon):\n",
        "\n",
        "    def __init__(self):\n",
        "        Polygon.__init__(self, 2, \"SQUARE :\")\n",
        "    \n",
        "    def squarearea(self):\n",
        "        a, b = self.sides\n",
        "        area=a**2\n",
        "        print(\"The area of square is : %0.2f  \" % area)\n",
        "\n",
        "\n",
        "ob = triangle()\n",
        "ob.inputSides()\n",
        "ob.trianglearea()\n",
        "ob1 = square()\n",
        "ob1.inputSides()\n",
        "ob1.squarearea()"
      ],
      "execution_count": 38,
      "outputs": [
        {
          "output_type": "stream",
          "text": [
            "TRIANGLE :\n",
            "Enter side 1 : 2\n",
            "Enter side 2 : 3\n",
            "Enter side 3 : 4\n",
            "The area of the triangle is : 2.90  \n",
            "SQUARE :\n",
            "Enter side 1 : 4\n",
            "Enter side 2 : 8\n",
            "The area of square is : 16.00  \n"
          ],
          "name": "stdout"
        }
      ]
    }
  ]
}