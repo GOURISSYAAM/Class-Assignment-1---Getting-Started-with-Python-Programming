{
  "nbformat": 4,
  "nbformat_minor": 0,
  "metadata": {
    "colab": {
      "name": "assignment-1.ipynb",
      "provenance": [],
      "authorship_tag": "ABX9TyPeOx2HT7AffdW39CnCgQEv",
      "include_colab_link": true
    },
    "kernelspec": {
      "name": "python3",
      "display_name": "Python 3"
    }
  },
  "cells": [
    {
      "cell_type": "markdown",
      "metadata": {
        "id": "view-in-github",
        "colab_type": "text"
      },
      "source": [
        "<a href=\"https://colab.research.google.com/github/GOURISSYAAM/Class-Assignment-1---Getting-Started-with-Python-Programming/blob/master/assignment_1.ipynb\" target=\"_parent\"><img src=\"https://colab.research.google.com/assets/colab-badge.svg\" alt=\"Open In Colab\"/></a>"
      ]
    },
    {
      "cell_type": "code",
      "metadata": {
        "id": "QsKIStSEU_eN",
        "colab_type": "code",
        "colab": {
          "base_uri": "https://localhost:8080/",
          "height": 72
        },
        "outputId": "653e3483-4649-4f2e-b994-24fa9dbddab5"
      },
      "source": [
        "print(\"name: GOURI S SYAAM\")\n",
        "print(\"address: 'Uthradam',TC 17/2052, Poojappura,tvm 12.\")\n",
        "print(\"phone: 8078112027\")\n"
      ],
      "execution_count": null,
      "outputs": [
        {
          "output_type": "stream",
          "text": [
            "name: GOURI S SYAAM\n",
            "address: 'Uthradam',TC 17/2052, Poojappura,tvm 12.\n",
            "phone: 8078112027\n"
          ],
          "name": "stdout"
        }
      ]
    },
    {
      "cell_type": "code",
      "metadata": {
        "id": "UA9IATymWbbK",
        "colab_type": "code",
        "colab": {
          "base_uri": "https://localhost:8080/",
          "height": 35
        },
        "outputId": "f15b9a0d-e647-4c9d-8dbb-c292072275b7"
      },
      "source": [
        "name = \"GOURI\"\n",
        "print (\"your name is\",name)"
      ],
      "execution_count": null,
      "outputs": [
        {
          "output_type": "stream",
          "text": [
            "your name is GOURI\n"
          ],
          "name": "stdout"
        }
      ]
    },
    {
      "cell_type": "code",
      "metadata": {
        "id": "KU7PPXpCYA8f",
        "colab_type": "code",
        "colab": {
          "base_uri": "https://localhost:8080/",
          "height": 72
        },
        "outputId": "d292a2a7-5f75-4a68-a709-080976463cb5"
      },
      "source": [
        "width = int(input(\"enter the width:\"))\n",
        "height = int(input(\"enter the height:\"))\n",
        "area = width * height\n",
        "print(\"the area is \",area)"
      ],
      "execution_count": null,
      "outputs": [
        {
          "output_type": "stream",
          "text": [
            "enter the width:5\n",
            "enter the height:50\n",
            "the area is  250\n"
          ],
          "name": "stdout"
        }
      ]
    },
    {
      "cell_type": "code",
      "metadata": {
        "id": "l1uJRLeYaBRA",
        "colab_type": "code",
        "colab": {
          "base_uri": "https://localhost:8080/",
          "height": 72
        },
        "outputId": "7bca05fd-93c2-469a-d88d-2c3aedbe135b"
      },
      "source": [
        "base = int(input(\"enter the base:\"))\n",
        "height = int(input(\"enter the height\"))\n",
        "area = 0.5 * base * height\n",
        "print(\"area of the trianglr is \",area, \"square units\")"
      ],
      "execution_count": null,
      "outputs": [
        {
          "output_type": "stream",
          "text": [
            "enter the base:4\n",
            "enter the height3\n",
            "area of the trianglr is  6.0 square units\n"
          ],
          "name": "stdout"
        }
      ]
    },
    {
      "cell_type": "code",
      "metadata": {
        "id": "tUFTC_tIbBCK",
        "colab_type": "code",
        "colab": {
          "base_uri": "https://localhost:8080/",
          "height": 54
        },
        "outputId": "83418233-78b3-45d6-df47-8eb49ecfe713"
      },
      "source": [
        "radius = float(input(\"enter the radius:\"))\n",
        "area = 3.14 * radius**2\n",
        "print(\"area of the circlr:\",area,\"square units\")"
      ],
      "execution_count": null,
      "outputs": [
        {
          "output_type": "stream",
          "text": [
            "enter the radius:10\n",
            "area of the circlr: 314.0 square units\n"
          ],
          "name": "stdout"
        }
      ]
    },
    {
      "cell_type": "code",
      "metadata": {
        "id": "DgkdUTMebtnn",
        "colab_type": "code",
        "colab": {
          "base_uri": "https://localhost:8080/",
          "height": 72
        },
        "outputId": "03665ae4-a81c-49a9-8754-7432a1cfacbd"
      },
      "source": [
        "name = str(input(\"enter the name:\"))\n",
        "age = int(input(\"enter the age:\"))\n",
        "print (\"name:\",name,\", age:\",age)"
      ],
      "execution_count": null,
      "outputs": [
        {
          "output_type": "stream",
          "text": [
            "enter the name:gouri\n",
            "enter the age:18\n",
            "name: gouri , age: 18\n"
          ],
          "name": "stdout"
        }
      ]
    },
    {
      "cell_type": "code",
      "metadata": {
        "id": "cUS_5pmjbqY4",
        "colab_type": "code",
        "colab": {
          "base_uri": "https://localhost:8080/",
          "height": 54
        },
        "outputId": "3b408d38-53eb-480d-b04c-f6e559247bfc"
      },
      "source": [
        "a = int(input(\"enter a number:\"))\n",
        "print(a+1)\n",
        "/"
      ],
      "execution_count": null,
      "outputs": [
        {
          "output_type": "stream",
          "text": [
            "enter a number:3\n",
            "4\n"
          ],
          "name": "stdout"
        }
      ]
    },
    {
      "cell_type": "markdown",
      "metadata": {
        "id": "o8KDnbGoeI_s",
        "colab_type": "text"
      },
      "source": [
        "when we entered the number 3 it is added with 1 and displayed 4."
      ]
    },
    {
      "cell_type": "code",
      "metadata": {
        "id": "SSmosxTCdR9_",
        "colab_type": "code",
        "colab": {
          "base_uri": "https://localhost:8080/",
          "height": 35
        },
        "outputId": "fa9cf82a-2371-437e-ff9c-e62605901c93"
      },
      "source": [
        "name = str(input(\"enter your first name:\"))\n"
      ],
      "execution_count": null,
      "outputs": [
        {
          "output_type": "stream",
          "text": [
            "enter your first name:gouri\n"
          ],
          "name": "stdout"
        }
      ]
    },
    {
      "cell_type": "markdown",
      "metadata": {
        "id": "Yl_XPIlnfN1J",
        "colab_type": "text"
      },
      "source": [
        "after execution of the programme no output"
      ]
    }
  ]
}