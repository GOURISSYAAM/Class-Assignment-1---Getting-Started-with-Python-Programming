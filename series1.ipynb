{
  "nbformat": 4,
  "nbformat_minor": 0,
  "metadata": {
    "colab": {
      "name": "series1.ipynb",
      "provenance": [],
      "collapsed_sections": [],
      "authorship_tag": "ABX9TyOpaYbOSAxPSoOZaLNUXydx",
      "include_colab_link": true
    },
    "kernelspec": {
      "name": "python3",
      "display_name": "Python 3"
    }
  },
  "cells": [
    {
      "cell_type": "markdown",
      "metadata": {
        "id": "view-in-github",
        "colab_type": "text"
      },
      "source": [
        "<a href=\"https://colab.research.google.com/github/GOURISSYAAM/Class-Assignment-1---Getting-Started-with-Python-Programming/blob/master/series1.ipynb\" target=\"_parent\"><img src=\"https://colab.research.google.com/assets/colab-badge.svg\" alt=\"Open In Colab\"/></a>"
      ]
    },
    {
      "cell_type": "code",
      "metadata": {
        "id": "IFK3hFYsH9eV",
        "outputId": "d8cba08f-9b56-496e-8729-00c69c787e98",
        "colab": {
          "base_uri": "https://localhost:8080/",
          "height": 35
        }
      },
      "source": [
        "def find (str,ch):\n",
        "  index=0\n",
        "  while index<len(str):\n",
        "    if str[index]==ch:\n",
        "      return(index)\n",
        "      break\n",
        "    index=index+1\n",
        "  return-1\n",
        "x=find('apple','z')\n",
        "print(x)\n",
        "\n",
        "        "
      ],
      "execution_count": null,
      "outputs": [
        {
          "output_type": "stream",
          "text": [
            "-1\n"
          ],
          "name": "stdout"
        }
      ]
    },
    {
      "cell_type": "code",
      "metadata": {
        "id": "zj11-fWZPXR8",
        "outputId": "fddaf065-b4d0-4c20-b485-e76292f5b36d",
        "colab": {
          "base_uri": "https://localhost:8080/",
          "height": 54
        }
      },
      "source": [
        "y=int(input(\"enter the number\"))\n",
        "x=y//2\n",
        "while x>1:\n",
        "  if y%x==0:\n",
        "    print(y,\"has a factor and not prime\")\n",
        "    break\n",
        "  x=x-1\n",
        "else:\n",
        "  print(y,\"is prime\")\n"
      ],
      "execution_count": null,
      "outputs": [
        {
          "output_type": "stream",
          "text": [
            "enter the number11\n",
            "11 is prime\n"
          ],
          "name": "stdout"
        }
      ]
    },
    {
      "cell_type": "code",
      "metadata": {
        "id": "NpuJqvhPFPpi"
      },
      "source": [
        "import math\n",
        "def area(radius):\n",
        "  return(math.pi*radius**2)\n"
      ],
      "execution_count": null,
      "outputs": []
    },
    {
      "cell_type": "code",
      "metadata": {
        "id": "r5jv-lIQWeWI",
        "outputId": "7d53583e-57e5-4c76-d182-9052c99dc32a",
        "colab": {
          "base_uri": "https://localhost:8080/",
          "height": 90
        }
      },
      "source": [
        "items=[\"apple\",(1,2,3),'mango',8,10]\n",
        "test=[\"apple\",(1,2,3),10,14]\n",
        "for key in test:\n",
        "  for item in items:\n",
        "    if key==item:\n",
        "      print(key,\"was found\")\n",
        "      break\n",
        "  else:\n",
        "    print(key,\"not found\")\n",
        "                            \n",
        "    "
      ],
      "execution_count": null,
      "outputs": [
        {
          "output_type": "stream",
          "text": [
            "apple was found\n",
            "(1, 2, 3) was found\n",
            "10 was found\n",
            "14 not found\n"
          ],
          "name": "stdout"
        }
      ]
    },
    {
      "cell_type": "code",
      "metadata": {
        "id": "s2bzhMZBQmIJ",
        "outputId": "58b8a560-d9ea-42b3-c4ee-4eb76baa6143",
        "colab": {
          "base_uri": "https://localhost:8080/",
          "height": 54
        }
      },
      "source": [
        "a=input(\"enter the string\")\n",
        "b=a[::-1]\n",
        "index=0\n",
        "while index < len(a):\n",
        "  if a[index]==b[index]:\n",
        "    index=index+1\n",
        "    print(a,\" is palimdrone\")\n",
        "    break\n",
        "\n",
        "  else:\n",
        "    print(a ,\"is not palimdrone\")\n",
        "    break\n",
        "\n",
        "\n"
      ],
      "execution_count": null,
      "outputs": [
        {
          "output_type": "stream",
          "text": [
            "enter the stringmalayalam\n",
            "malayalam  is palimdrone\n"
          ],
          "name": "stdout"
        }
      ]
    }
  ]
}