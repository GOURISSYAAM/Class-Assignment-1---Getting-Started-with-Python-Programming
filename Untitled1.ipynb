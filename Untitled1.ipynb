{
  "nbformat": 4,
  "nbformat_minor": 0,
  "metadata": {
    "colab": {
      "name": "Untitled1.ipynb",
      "provenance": [],
      "authorship_tag": "ABX9TyMDofl/u9N9658RV3JthA56",
      "include_colab_link": true
    },
    "kernelspec": {
      "name": "python3",
      "display_name": "Python 3"
    }
  },
  "cells": [
    {
      "cell_type": "markdown",
      "metadata": {
        "id": "view-in-github",
        "colab_type": "text"
      },
      "source": [
        "<a href=\"https://colab.research.google.com/github/GOURISSYAAM/Class-Assignment-1---Getting-Started-with-Python-Programming/blob/master/Untitled1.ipynb\" target=\"_parent\"><img src=\"https://colab.research.google.com/assets/colab-badge.svg\" alt=\"Open In Colab\"/></a>"
      ]
    },
    {
      "cell_type": "code",
      "metadata": {
        "id": "dbLQgbfl2vqw"
      },
      "source": [
        "def deldigit(oldfile,newfile):\n",
        "  f1=open(oldfile,\"r\")\n",
        "  f2=open(newfile,\"w\")\n",
        "  digit1=f1.read(1)\n",
        "  while true:\n",
        "    digit2=f1.read(1)\n",
        "    if digit2==\"\":\n",
        "      break\n",
        "    if digit1!=digit2:\n",
        "      f2.write(digit1)\n",
        "      digit1=digit2\n",
        "  f1.close()\n",
        "  f2.close()\n",
        "  return\n",
        "\n",
        "\n",
        "  \n",
        "\n",
        "  "
      ],
      "execution_count": 4,
      "outputs": []
    },
    {
      "cell_type": "code",
      "metadata": {
        "id": "FGnaEZ-R_bt_"
      },
      "source": [
        "def delblankline(oldFile, newFile):\n",
        "  f1 = open(oldFile, \"r\")\n",
        "  f2 = open(newFile, \"w\")\n",
        "  while True:\n",
        "    text = f1.readline()\n",
        "    if text == \"\":\n",
        "      break\n",
        "    if text == '\\0':\n",
        "      continue\n",
        "    f2.write(text)\n",
        "  f1.close()\n",
        "  f2.close()\n",
        "  return"
      ],
      "execution_count": 3,
      "outputs": []
    }
  ]
}